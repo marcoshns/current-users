{
 "cells": [
  {
   "cell_type": "markdown",
   "metadata": {},
   "source": [
    "# Generates a report with all machine names, and the users connected to each machine."
   ]
  },
  {
   "cell_type": "markdown",
   "metadata": {},
   "source": [
    "Event class contains the date when the event happened, the name of the machine where it happened, the user involver, and the event type (login/logout). "
   ]
  },
  {
   "cell_type": "code",
   "execution_count": 157,
   "metadata": {},
   "outputs": [],
   "source": [
    "class Event: \n",
    "    def __init__(self, event_date, event_type, machine_name, user):\n",
    "        self.date = event_date\n",
    "        self.type = event_type\n",
    "        self.machine = machine_name\n",
    "        self.user = user"
   ]
  },
  {
   "cell_type": "markdown",
   "metadata": {},
   "source": [
    "Sample events to check the code. "
   ]
  },
  {
   "cell_type": "code",
   "execution_count": 170,
   "metadata": {},
   "outputs": [],
   "source": [
    "events = [\n",
    "    Event('2020-01-21 12:45:56', 'login', 'myworkstation.local', 'jordan'),\n",
    "    Event('2020-01-22 15:53:42', 'logout', 'webserver.local', 'jordan'),\n",
    "    Event('2020-01-21 18:53:21', 'login', 'webserver.local', 'lane'),\n",
    "    Event('2020-01-22 10:25:34', 'logout', 'myworkstation.local', 'jordan'),\n",
    "    Event('2020-01-21 08:20:01', 'login', 'webserver.local', 'jordan'),\n",
    "    Event('2020-01-23 11:24:35', 'logout', 'mailserver.local', 'chris'),\n",
    "    Event('2020-01-20 18:53:21', 'login', 'webserver.local', 'ronaldo'),\n",
    "    Event('2020-01-24 19:33:01', 'logout', 'myworkstation.local', 'marcelo'),\n",
    "    Event('2020-01-24 20:43:01', 'logout', 'myworkstation.local', 'marcelo'),\n",
    "    Event('2020-01-24 20:33:01', 'login', 'myworkstation.local', 'marcelo'),\n",
    "    Event('2020-01-24 20:33:01', 'login', 'myworkstation.local', 'jonatas'),    \n",
    "]"
   ]
  },
  {
   "cell_type": "markdown",
   "metadata": {},
   "source": [
    "Use logging library to create the report."
   ]
  },
  {
   "cell_type": "code",
   "execution_count": 171,
   "metadata": {},
   "outputs": [],
   "source": [
    "from time import strftime, localtime\n",
    "import logging\n",
    "\n",
    "def create_logger(destination_folder, logfile_name):\n",
    "    \"\"\"Create a logfile object using logging library.\n",
    "    Set logging levels to debug and console handler created.\"\"\"\n",
    "    \n",
    "    time = strftime(\"%d %b %Y %H:%M:%S\", localtime()) # Get current time\n",
    "    start_time = time.replace(\":\", \"_\").replace(\" \", \"_\") # Use _ instead of :\n",
    "    logger_name = f\"{start_time}_{logfile_name}\" # Create logger name\n",
    "    logfile_directory = f\"{destination_folder}/{logger_name}.log\" # Create logfile directory\n",
    "    \n",
    "    # Create logger\n",
    "    logger = logging.getLogger(logfile_directory)\n",
    "    logger.setLevel(logging.DEBUG) # Set debug level to DEBUG\n",
    "    \n",
    "    # Create a file handler and set level to DEBUG\n",
    "    FileHandler = logging.FileHandler(logfile_directory)\n",
    "    FileHandler.setLevel(logging.DEBUG)\n",
    "    \n",
    "    # Create a console handler and set level to DEBUG\n",
    "    ConsoleHandler = logging.StreamHandler()\n",
    "    ConsoleHandler.setLevel(logging.DEBUG)\n",
    "    \n",
    "    # Create formatter\n",
    "    formatter = logging.Formatter(\"%(asctime)-15s - %(levelname)-8s  %(message)s\",  \n",
    "                                  datefmt=\"%H:%M:%S %a %d %b %Y\")\n",
    "    \n",
    "    # Add formatter to console and file handler\n",
    "    FileHandler.setFormatter(formatter)\n",
    "    ConsoleHandler.setFormatter(formatter)\n",
    "    \n",
    "    # Add console and file handler to logger\n",
    "    logger.addHandler(FileHandler)\n",
    "    logger.addHandler(ConsoleHandler)\n",
    "    \n",
    "    # Return logger object\n",
    "    return logger"
   ]
  },
  {
   "cell_type": "markdown",
   "metadata": {},
   "source": [
    "Define current users functions based on Event class inputs."
   ]
  },
  {
   "cell_type": "code",
   "execution_count": 172,
   "metadata": {},
   "outputs": [],
   "source": [
    "### Input is a list of events, event class \n",
    "### Event class attributes: Date, User, Machine, and Type (login/logout) \n",
    "### machine: <machine name>\n",
    "### user: <user name>\n",
    "### date: <date>\n",
    "### type: <login/logout>\n",
    "import os\n",
    "\n",
    "class CurrentUsers:\n",
    "    \"\"\"Create a report listing all current users and specific machines\n",
    "    on a local system.\"\"\"\n",
    "    \n",
    "    def __init__(self, events):\n",
    "        self.events = events\n",
    "        \n",
    "    def get_event_date(self, event):\n",
    "        \"\"\"Returns the event date.\"\"\"\n",
    "        return event.date\n",
    "\n",
    "    def current_users(self):\n",
    "        \"\"\"Returns the machine dictionary given an events list formed by\n",
    "        an event objects withe the following attributes: <machine name>, \n",
    "        <user name>, <event type>, and <event type (login/logout)>.\"\"\"\n",
    "\n",
    "        # Sort the events based on event date\n",
    "        self.events.sort(key=get_event_date) # Use get_event_date function \n",
    "        machines = {} # Create a empty dictonaries to store the machines\n",
    "\n",
    "        # Iterate through our list of events \n",
    "        for event in self.events:\n",
    "            # Check if this machine already exist\n",
    "            if event.machine not in machines:\n",
    "                machines[event.machine] = set() # Use a set to create and remove elements\n",
    "\n",
    "            # Check for login/logout type \n",
    "            if event.type == \"login\":\n",
    "                machines[event.machine].add(event.user)\n",
    "            elif event.type == \"logout\" and event.user in machines[event.machine]:\n",
    "                machines[event.machine].remove(event.user)\n",
    "\n",
    "        # Returns the machine dictionaries \n",
    "        return machines \n",
    "\n",
    "    def generate_report(self, report_directory=os.getcwd(), report_name=\"Current_Users_Report\"):\n",
    "        \"\"\"Generate a report listing all current users.\"\"\"\n",
    "        \n",
    "        # Get current users \n",
    "        machines = self.current_users()\n",
    "        \n",
    "        # Create report logifle \n",
    "        logger = create_logger(report_directory, report_name)\n",
    "\n",
    "        # Iterate over keys and values of the machine dictionary\n",
    "        for machine, users in  machines.items():\n",
    "            # Check if there's at least one user using the machine\n",
    "            if len(users) > 0:\n",
    "                user_list = \", \".join(users) # Create a string with all users \n",
    "                logger.info(f\"{machine}: {user_list}\")\n",
    "        \n",
    "        logging.shutdown()"
   ]
  },
  {
   "cell_type": "markdown",
   "metadata": {},
   "source": [
    "Let's feed these events into our CurrentUser class and create a new instance. Now, we can create the report using the generate_report method."
   ]
  },
  {
   "cell_type": "code",
   "execution_count": 175,
   "metadata": {},
   "outputs": [
    {
     "name": "stderr",
     "output_type": "stream",
     "text": [
      "13:28:47 Sun 02 Aug 2020 - INFO      webserver.local: ronaldo, lane\n",
      "13:28:47 Sun 02 Aug 2020 - INFO      myworkstation.local: jonatas\n"
     ]
    }
   ],
   "source": [
    "report = CurrentUsers(events)\n",
    "report.generate_report()"
   ]
  }
 ],
 "metadata": {
  "kernelspec": {
   "display_name": "Python 3",
   "language": "python",
   "name": "python3"
  },
  "language_info": {
   "codemirror_mode": {
    "name": "ipython",
    "version": 3
   },
   "file_extension": ".py",
   "mimetype": "text/x-python",
   "name": "python",
   "nbconvert_exporter": "python",
   "pygments_lexer": "ipython3",
   "version": "3.7.6"
  }
 },
 "nbformat": 4,
 "nbformat_minor": 4
}
